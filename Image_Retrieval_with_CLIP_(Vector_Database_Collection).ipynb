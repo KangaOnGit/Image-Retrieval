{
  "nbformat": 4,
  "nbformat_minor": 0,
  "metadata": {
    "colab": {
      "provenance": [],
      "gpuType": "T4",
      "authorship_tag": "ABX9TyONqkLTNHXNssKne1ZbcWPt",
      "include_colab_link": true
    },
    "kernelspec": {
      "name": "python3",
      "display_name": "Python 3"
    },
    "language_info": {
      "name": "python"
    },
    "accelerator": "GPU"
  },
  "cells": [
    {
      "cell_type": "markdown",
      "metadata": {
        "id": "view-in-github",
        "colab_type": "text"
      },
      "source": [
        "<a href=\"https://colab.research.google.com/github/KhangTheKangaroo/Image-Retrieval/blob/main/Image_Retrieval_with_CLIP_(Vector_Database_Collection).ipynb\" target=\"_parent\"><img src=\"https://colab.research.google.com/assets/colab-badge.svg\" alt=\"Open In Colab\"/></a>"
      ]
    },
    {
      "cell_type": "code",
      "source": [
        "!gdown --id 1msLVo0g0LFmL9-qZ73vq9YEVZwbzOePF # Download the dataset\n",
        "!unzip -q data.zip"
      ],
      "metadata": {
        "colab": {
          "base_uri": "https://localhost:8080/"
        },
        "id": "pWv1g5XUJ-2t",
        "outputId": "32fabf2e-951e-4103-ad9e-ade1f9b9a035"
      },
      "execution_count": null,
      "outputs": [
        {
          "output_type": "stream",
          "name": "stdout",
          "text": [
            "/usr/local/lib/python3.10/dist-packages/gdown/__main__.py:132: FutureWarning: Option `--id` was deprecated in version 4.3.1 and will be removed in 5.0. You don't need to pass it anymore to use a file ID.\n",
            "  warnings.warn(\n",
            "Downloading...\n",
            "From (original): https://drive.google.com/uc?id=1msLVo0g0LFmL9-qZ73vq9YEVZwbzOePF\n",
            "From (redirected): https://drive.google.com/uc?id=1msLVo0g0LFmL9-qZ73vq9YEVZwbzOePF&confirm=t&uuid=bcb2475c-c50c-4a79-8847-1d0d6d523194\n",
            "To: /content/data.zip\n",
            "100% 76.1M/76.1M [00:00<00:00, 110MB/s]\n"
          ]
        }
      ]
    },
    {
      "cell_type": "code",
      "source": [
        "%pip install chromadb\n",
        "%pip install open-clip-torch"
      ],
      "metadata": {
        "id": "UOAIvDh0Odid"
      },
      "execution_count": null,
      "outputs": []
    },
    {
      "cell_type": "code",
      "source": [
        "import os\n",
        "import chromadb\n",
        "import numpy as np\n",
        "from tqdm import tqdm\n",
        "from PIL import Image\n",
        "import matplotlib.pyplot as plt\n",
        "from chromadb.utils.embedding_functions import OpenCLIPEmbeddingFunction"
      ],
      "metadata": {
        "id": "NOTQqTc5J_zW"
      },
      "execution_count": null,
      "outputs": []
    },
    {
      "cell_type": "code",
      "source": [
        "ROOT = 'data'\n",
        "CLASS_NAME = sorted(list(os.listdir(f\"{ROOT}/train\"))) # Get the images' classes from data\n",
        "HNSW_SPACE = 'hnsw:space'"
      ],
      "metadata": {
        "id": "Gp-1FihDLWNM"
      },
      "execution_count": null,
      "outputs": []
    },
    {
      "cell_type": "code",
      "source": [
        "def plot_results(image_path, files_path, results):\n",
        "    query_image = Image.open(image_path).resize((448,448))\n",
        "    images = [query_image]\n",
        "    class_name = []\n",
        "    for id_img in results['ids'][0]:\n",
        "        id_img = int(id_img.split('_')[-1])\n",
        "        img_path = files_path[id_img]\n",
        "        img = Image.open(img_path).resize((448,448))\n",
        "        images.append(img)\n",
        "        class_name.append(img_path.split('/')[2])\n",
        "\n",
        "    fig, axes = plt.subplots(2, 3, figsize=(12, 8))\n",
        "\n",
        "    # Iterate through images and plot them\n",
        "    for i, ax in enumerate(axes.flat):\n",
        "        ax.imshow(images[i])\n",
        "        if i == 0:\n",
        "            ax.set_title(f\"Query Image: {image_path.split('/')[2]}\")\n",
        "        else:\n",
        "            ax.set_title(f\"Top {i+1}: {class_name[i-1]}\")\n",
        "        ax.axis('off')  # Hide axes\n",
        "    # Display the plot\n",
        "    plt.show()"
      ],
      "metadata": {
        "id": "q8IdoWOENtsG"
      },
      "execution_count": null,
      "outputs": []
    },
    {
      "cell_type": "code",
      "source": [
        "# Rather than Extrating the features of the image every time we gotta do a search\n",
        "# We create a vector database to optimize time\n",
        "\n",
        "def get_files_path(path):\n",
        "  files_path = []\n",
        "  for label in CLASS_NAME:\n",
        "    label_path = path + \"/\" + label # Construct the full path to the directory containing images of the current class.\n",
        "    filenames = os.listdir(label_path) # List all filenames in the directory of the current class.\n",
        "    for filename in filenames:\n",
        "      filepath = label_path + '/' + filename # Construct the full file path for the current image.\n",
        "      files_path.append(filepath)\n",
        "  return files_path\n",
        "\n",
        "data_path = f'{ROOT}/train' # Set the data path to the directory containing the training dataset.\n",
        "files_path = get_files_path(path=data_path)"
      ],
      "metadata": {
        "id": "7NDGFhzLKA6d"
      },
      "execution_count": null,
      "outputs": []
    },
    {
      "cell_type": "code",
      "source": [
        "embedding_function = OpenCLIPEmbeddingFunction()\n",
        "\n",
        "def get_single_image_embedding(image):\n",
        "    embedding = embedding_function._encode_image(image=np.array(image))\n",
        "    return embedding"
      ],
      "metadata": {
        "id": "d2CGAz-ZT9BO"
      },
      "execution_count": null,
      "outputs": []
    },
    {
      "cell_type": "code",
      "source": [
        "# Help store the vector of the features inside a collection\n",
        "\n",
        "def add_embedding(collection, files_path):\n",
        " ids = []\n",
        " embeddings = []\n",
        " for id_filepath, filepath in tqdm(enumerate(files_path)):\n",
        "  ids.append(f\"id_{id_filepath}\")\n",
        "  image = Image.open(filepath)\n",
        "  embedding = get_single_image_embedding(image=image)\n",
        "  embeddings.append(embedding)\n",
        "  collection.add(\n",
        "  embeddings=embeddings,\n",
        "  ids=ids) # Add the image embedding and its vector of feature"
      ],
      "metadata": {
        "id": "ZoWUO5a2KCnO"
      },
      "execution_count": null,
      "outputs": []
    },
    {
      "cell_type": "code",
      "source": [
        "\n",
        "chroma_client = chromadb.Client() # Create a Chroma Client\n",
        "\n",
        "l2_collection = chroma_client.get_or_create_collection(name=\"l2_collection\",\n",
        "                                                           metadata={HNSW_SPACE: \"l2\"}) # Create L2 Collection\n",
        "add_embedding(collection=l2_collection, files_path=files_path)"
      ],
      "metadata": {
        "id": "zRcCE36pKRzm"
      },
      "execution_count": null,
      "outputs": []
    },
    {
      "cell_type": "code",
      "source": [
        "def search(image_path, collection, n_results):\n",
        "  query_image = Image.open(image_path)\n",
        "  query_embedding = get_single_image_embedding(query_image)\n",
        "  results = collection.query(query_embeddings=[query_embedding], n_results = n_results) # Return n number of results\n",
        "\n",
        "  return results"
      ],
      "metadata": {
        "id": "s_5yAQleKp8O"
      },
      "execution_count": null,
      "outputs": []
    },
    {
      "cell_type": "code",
      "source": [
        "test_path = f'{ROOT}/test'\n",
        "test_files_path = get_files_path(path=test_path)\n",
        "test_path = test_files_path[1]\n",
        "l2_results = search(image_path=test_path, collection=l2_collection, n_results=5)\n",
        "plot_results(image_path=test_path, files_path=files_path, results=l2_results)"
      ],
      "metadata": {
        "id": "amfDkrlELT0O"
      },
      "execution_count": null,
      "outputs": []
    },
    {
      "cell_type": "code",
      "source": [
        "cosine_collection = chroma_client.get_or_create_collection(name=\"Cosine_collection\",\n",
        "                                                           metadata={HNSW_SPACE: \"cosine\"}) # Create Cosine Similarity Collection\n",
        "add_embedding(collection=cosine_collection, files_path=files_path)"
      ],
      "metadata": {
        "id": "R1iE9eqYOKXS"
      },
      "execution_count": null,
      "outputs": []
    },
    {
      "cell_type": "code",
      "source": [
        "test_path = f'{ROOT}/test'\n",
        "test_files_path = get_files_path(path=test_path)\n",
        "test_path = test_files_path[1]\n",
        "cosine_results = search(image_path=test_path, collection=cosine_collection, n_results=5)\n",
        "plot_results(image_path=test_path, files_path=files_path, results=cosine_results)"
      ],
      "metadata": {
        "id": "MafwYgBION7V"
      },
      "execution_count": null,
      "outputs": []
    }
  ]
}