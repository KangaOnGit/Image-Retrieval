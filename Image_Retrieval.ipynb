{
  "nbformat": 4,
  "nbformat_minor": 0,
  "metadata": {
    "colab": {
      "provenance": [],
      "gpuType": "T4",
      "authorship_tag": "ABX9TyOPdkOkumB+XaHkKqsQ2iPl",
      "include_colab_link": true
    },
    "kernelspec": {
      "name": "python3",
      "display_name": "Python 3"
    },
    "language_info": {
      "name": "python"
    },
    "accelerator": "GPU"
  },
  "cells": [
    {
      "cell_type": "markdown",
      "metadata": {
        "id": "view-in-github",
        "colab_type": "text"
      },
      "source": [
        "<a href=\"https://colab.research.google.com/github/KhangTheKangaroo/Image-Retrieval/blob/main/Image_Retrieval.ipynb\" target=\"_parent\"><img src=\"https://colab.research.google.com/assets/colab-badge.svg\" alt=\"Open In Colab\"/></a>"
      ]
    },
    {
      "cell_type": "code",
      "execution_count": 32,
      "metadata": {
        "id": "ABfDxNt73cZe"
      },
      "outputs": [],
      "source": [
        "import os\n",
        "import numpy as np\n",
        "from PIL import Image\n",
        "import matplotlib.pyplot as plt\n",
        "from sklearn.metrics.pairwise import cosine_similarity"
      ]
    },
    {
      "cell_type": "code",
      "source": [
        "!gdown --id 1msLVo0g0LFmL9-qZ73vq9YEVZwbzOePF # Download the dataset\n",
        "!unzip -q data.zip"
      ],
      "metadata": {
        "id": "ZCR-G_Ob3854"
      },
      "execution_count": null,
      "outputs": []
    },
    {
      "cell_type": "code",
      "source": [
        "def plot_results(query_path, ls_path_score, reverse=False):\n",
        "    ls_path_score.sort(key=lambda x: x[1], reverse=reverse)  # Sort by score\n",
        "\n",
        "    # Display query image\n",
        "    query_image = plt.imread(query_path)\n",
        "    plt.figure(figsize=(5, 5))\n",
        "    plt.imshow(query_image)\n",
        "    plt.title(\"Query Image\")\n",
        "    plt.axis('off')\n",
        "    plt.show()\n",
        "\n",
        "    # Display top 5 results\n",
        "    plt.figure(figsize=(20, 10))\n",
        "    for i in range(5):\n",
        "        image_path, score = ls_path_score[i]\n",
        "        image = plt.imread(image_path)\n",
        "        plt.subplot(1, 5, i + 1)\n",
        "        plt.imshow(image)\n",
        "\n",
        "        # Extract the class name from the path\n",
        "        class_name = image_path.split('/')[-2]\n",
        "        plt.title(f\"{class_name}\")\n",
        "\n",
        "        plt.axis('off')\n",
        "    plt.suptitle(\"Top 5 Results\")\n",
        "    plt.show()"
      ],
      "metadata": {
        "id": "3qmH0SzT9Lyh"
      },
      "execution_count": 25,
      "outputs": []
    },
    {
      "cell_type": "code",
      "source": [
        "ROOT = 'data'\n",
        "CLASS_NAME = sorted(list(os.listdir(f\"{ROOT}/train\"))) # Get the images' classes from data"
      ],
      "metadata": {
        "id": "mnBXSb433j6y"
      },
      "execution_count": 3,
      "outputs": []
    },
    {
      "cell_type": "code",
      "source": [
        "def read_image_from_path(path, size):\n",
        "  img = Image.open(path).convert('RGB').resize(size) # Open the image from path, convert color to RGB type and resize the image\n",
        "  return np.array(img) # Vectorize the img\n",
        "\n",
        "def folder_to_images(folder, size):\n",
        "  list_dir = [folder + '/' + name for name in os.listdir(folder)] # Get the images' path\n",
        "  images = np.zeros(shape = (len(list_dir), *size, 3))\n",
        "  images_path = []\n",
        "\n",
        "  for i, path in enumerate(list_dir): # This step is to check if an image could be opened\n",
        "\n",
        "    images[i] = read_image_from_path(path, size)\n",
        "    images_path.append(path)\n",
        "\n",
        "  return images, images_path"
      ],
      "metadata": {
        "id": "tlIckC4G3v3L"
      },
      "execution_count": 11,
      "outputs": []
    },
    {
      "cell_type": "code",
      "source": [
        "# Using L1/Manhattan Distance\n",
        "\n",
        "def abs_diff(query, data):\n",
        "  axis_batch_size = tuple(range(1, len(data.shape)))\n",
        "  return np.sum(np.abs(data - query), axis = axis_batch_size) # Get the absolute difference of every images in data to the query image\n",
        "\n",
        "def get_L1_Score(root_img_path, query_path, size):\n",
        "  query = read_image_from_path(query_path, size) # Get query image\n",
        "  ls_path_score = []\n",
        "  for folder in os.listdir(root_img_path):\n",
        "\n",
        "    if folder in CLASS_NAME:\n",
        "      path = root_img_path + folder # Path of image + image's class\n",
        "      images_np, images_path = folder_to_images(path, size)  # Get images in the class\n",
        "      score = abs_diff(query, images_np)\n",
        "      ls_path_score.extend(zip(images_path, score))\n",
        "\n",
        "  return query, ls_path_score"
      ],
      "metadata": {
        "id": "VXDpC544562o"
      },
      "execution_count": 9,
      "outputs": []
    },
    {
      "cell_type": "code",
      "source": [
        "# L1/Manhattan Distance Test\n",
        "\n",
        "root_img_path = f\"{ROOT}/train/\"\n",
        "query_path = f\"{ROOT}/test/Orange_easy/0_100.jpg\"\n",
        "size = (448, 448)\n",
        "query, ls_path_score = get_L1_Score(root_img_path, query_path, size)\n",
        "plot_results(query_path, ls_path_score, reverse=False)\n",
        "\n",
        "root_img_path = f\"{ROOT}/train/\"\n",
        "query_path = f\"{ROOT}/test/African_crocodile/n01697457_18534.JPEG\"\n",
        "size = (448, 448)\n",
        "query, ls_path_score = get_L1_Score(root_img_path, query_path, size)\n",
        "plot_results(query_path, ls_path_score, reverse=False)"
      ],
      "metadata": {
        "id": "6w_Vohaf7vkS"
      },
      "execution_count": null,
      "outputs": []
    },
    {
      "cell_type": "code",
      "source": [
        "# Using L2/Euclidian Distance\n",
        "\n",
        "def mean_square_diff(query, data):\n",
        "  axis_batch_size = tuple(range(1, len(data.shape)))\n",
        "  return np.mean((data - query)**2, axis = axis_batch_size)\n",
        "\n",
        "def get_L2_Score(root_img_path, query_path, size):\n",
        "  query = read_image_from_path(query_path, size) # Get query image\n",
        "  ls_path_score = []\n",
        "  for folder in os.listdir(root_img_path):\n",
        "\n",
        "    if folder in CLASS_NAME:\n",
        "      path = root_img_path + folder # Path of image + image's class\n",
        "      images_np, images_path = folder_to_images(path, size)  # Get images in the class\n",
        "      score = mean_square_diff(query, images_np)\n",
        "      ls_path_score.extend(zip(images_path, score))\n",
        "\n",
        "  return query, ls_path_score"
      ],
      "metadata": {
        "id": "dzj83Av4-QLv"
      },
      "execution_count": null,
      "outputs": []
    },
    {
      "cell_type": "code",
      "source": [
        "# L2/Euclidian Distance Test\n",
        "\n",
        "root_img_path = f\"{ROOT}/train/\"\n",
        "query_path = f\"{ROOT}/test/Orange_easy/0_100.jpg\"\n",
        "size = (448, 448)\n",
        "query, ls_path_score = get_L2_Score(root_img_path, query_path, size)\n",
        "plot_results(query_path, ls_path_score, reverse=False)\n",
        "\n",
        "root_img_path = f\"{ROOT}/train/\"\n",
        "query_path = f\"{ROOT}/test/African_crocodile/n01697457_18534.JPEG\"\n",
        "size = (448, 448)\n",
        "query, ls_path_score = get_L2_Score(root_img_path, query_path, size)\n",
        "plot_results(query_path, ls_path_score, reverse=False)"
      ],
      "metadata": {
        "id": "SVN51IIe-4hc"
      },
      "execution_count": null,
      "outputs": []
    },
    {
      "cell_type": "code",
      "source": [
        "# Using Cosine Similarity\n",
        "\n",
        "def cosine_similarity(query, data):\n",
        "  axis_batch_size = tuple(range(1,len(data.shape)))\n",
        "  query_norm = np.sqrt(np.sum(query**2))\n",
        "  data_norm = np.sqrt(np.sum(data**2, axis=axis_batch_size))\n",
        "  return np.sum(data * query, axis=axis_batch_size) / (query_norm*data_norm + np.finfo(float).eps)\n",
        "\n",
        "\n",
        "def get_CosineSimilarity_Score(root_img_path, query_path, size):\n",
        "  query = read_image_from_path(query_path, size) # Get query image\n",
        "  ls_path_score = []\n",
        "  for folder in os.listdir(root_img_path):\n",
        "\n",
        "    if folder in CLASS_NAME:\n",
        "      path = root_img_path + folder # Path of image + image's class\n",
        "      images_np, images_path = folder_to_images(path, size)  # Get images in the class\n",
        "      score = cosine_similarity(query, images_np)\n",
        "      ls_path_score.extend(zip(images_path, score))\n",
        "\n",
        "  return query, ls_path_score"
      ],
      "metadata": {
        "id": "9-wUPd0f_C0i"
      },
      "execution_count": 39,
      "outputs": []
    },
    {
      "cell_type": "code",
      "source": [
        "# Cosine Similarity Test\n",
        "\n",
        "root_img_path = f\"{ROOT}/train/\"\n",
        "query_path = f\"{ROOT}/test/Orange_easy/0_100.jpg\"\n",
        "size = (448, 448)\n",
        "query, ls_path_score = get_CosineSimilarity_Score(root_img_path, query_path, size)\n",
        "plot_results(query_path, ls_path_score, reverse=True)\n",
        "\n",
        "root_img_path = f\"{ROOT}/train/\"\n",
        "query_path = f\"{ROOT}/test/African_crocodile/n01697457_18534.JPEG\"\n",
        "size = (448, 448)\n",
        "query, ls_path_score = get_CosineSimilarity_Score(root_img_path, query_path, size)\n",
        "plot_results(query_path, ls_path_score, reverse=True)"
      ],
      "metadata": {
        "id": "dxZUY2Fb_QlO"
      },
      "execution_count": null,
      "outputs": []
    },
    {
      "cell_type": "code",
      "source": [
        "# Using Correlation Coefficient\n",
        "\n",
        "def correlation_coefficient(query, data):\n",
        "  axis_batch_size = tuple(range(1,len(data.shape)))\n",
        "  query_mean = query - np.mean(query)\n",
        "  data_mean = data - np.mean(data, axis=axis_batch_size, keepdims=True)\n",
        "  query_norm = np.sqrt(np.sum(query_mean**2))\n",
        "  data_norm = np.sqrt(np.sum(data_mean**2, axis=axis_batch_size))\n",
        "\n",
        "  return np.sum(data_mean * query_mean, axis=axis_batch_size) / (query_norm*data_norm + np.finfo(float).eps)\n",
        "\n",
        "def get_CorrCoef_Score(root_img_path, query_path, size):\n",
        "  query = read_image_from_path(query_path, size) # Get query image\n",
        "  ls_path_score = []\n",
        "  for folder in os.listdir(root_img_path):\n",
        "\n",
        "    if folder in CLASS_NAME:\n",
        "      path = root_img_path + folder # Path of image + image's class\n",
        "      images_np, images_path = folder_to_images(path, size)  # Get images in the class\n",
        "      score = correlation_coefficient(query, images_np)\n",
        "      ls_path_score.extend(zip(images_path, score))\n",
        "\n",
        "  return query, ls_path_score"
      ],
      "metadata": {
        "id": "WheGgSyi_ZKh"
      },
      "execution_count": 41,
      "outputs": []
    },
    {
      "cell_type": "code",
      "source": [
        "# Correlation Coefficient Test\n",
        "\n",
        "root_img_path = f\"{ROOT}/train/\"\n",
        "query_path = f\"{ROOT}/test/Orange_easy/0_100.jpg\"\n",
        "size = (448, 448)\n",
        "query, ls_path_score = get_CorrCoef_Score(root_img_path, query_path, size)\n",
        "plot_results(query_path, ls_path_score, reverse=True)\n",
        "\n",
        "root_img_path = f\"{ROOT}/train/\"\n",
        "query_path = f\"{ROOT}/test/African_crocodile/n01697457_18534.JPEG\"\n",
        "size = (448, 448)\n",
        "query, ls_path_score = get_CorrCoef_Score(root_img_path, query_path, size)\n",
        "plot_results(query_path, ls_path_score, reverse=True)"
      ],
      "metadata": {
        "id": "lBPBeIpPBsRw"
      },
      "execution_count": null,
      "outputs": []
    }
  ]
}